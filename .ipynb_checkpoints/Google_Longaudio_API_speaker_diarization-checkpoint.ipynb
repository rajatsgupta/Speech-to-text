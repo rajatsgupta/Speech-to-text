{
 "cells": [
  {
   "cell_type": "code",
   "execution_count": 24,
   "metadata": {},
   "outputs": [],
   "source": [
    "filepath = \"~/\"\n",
    "output_filepath = \"~/\""
   ]
  },
  {
   "cell_type": "code",
   "execution_count": 7,
   "metadata": {},
   "outputs": [],
   "source": [
    "from pydub import AudioSegment\n",
    "import io\n",
    "import os\n",
    "from google.cloud import speech_v1p1beta1 as speech\n",
    "from google.cloud.speech_v1p1beta1 import enums\n",
    "from google.cloud.speech_v1p1beta1 import types\n",
    "import wave\n",
    "from google.cloud import storage\n",
    "\n",
    "os.environ['GOOGLE_APPLICATION_CREDENTIALS'] = 'C:\\\\Users\\\\rgupta319\\\\Downloads\\\\TestSTT1.json'"
   ]
  },
  {
   "cell_type": "code",
   "execution_count": 8,
   "metadata": {},
   "outputs": [],
   "source": [
    "def mp3_to_wav(audio_file_name):\n",
    "    if audio_file_name.split('.')[1] == 'mp3':    \n",
    "        sound = AudioSegment.from_mp3(audio_file_name)\n",
    "        audio_file_name = audio_file_name.split('.')[0] + '.wav'\n",
    "        sound.export(audio_file_name, format=\"wav\")"
   ]
  },
  {
   "cell_type": "code",
   "execution_count": 9,
   "metadata": {},
   "outputs": [],
   "source": [
    "def frame_rate_channel(audio_file_name):\n",
    "    with wave.open(audio_file_name, \"rb\") as wave_file:\n",
    "        frame_rate = wave_file.getframerate()\n",
    "        channels = wave_file.getnchannels()\n",
    "        return frame_rate,channels"
   ]
  },
  {
   "cell_type": "code",
   "execution_count": 13,
   "metadata": {},
   "outputs": [],
   "source": [
    "def stereo_to_mono(audio_file_name):\n",
    "    sound = AudioSegment.from_wav(audio_file_name)\n",
    "    sound = sound.set_channels(1)\n",
    "    sound.export(audio_file_name, format=\"wav\")"
   ]
  },
  {
   "cell_type": "code",
   "execution_count": 14,
   "metadata": {},
   "outputs": [],
   "source": [
    "def upload_blob(bucket_name, source_file_name, destination_blob_name):\n",
    "    \"\"\"Uploads a file to the bucket.\"\"\"\n",
    "    storage_client = storage.Client()\n",
    "    bucket = storage_client.get_bucket(bucket_name)\n",
    "    blob = bucket.blob(destination_blob_name)\n",
    "\n",
    "    blob.upload_from_filename(source_file_name)"
   ]
  },
  {
   "cell_type": "code",
   "execution_count": 15,
   "metadata": {},
   "outputs": [],
   "source": [
    "def delete_blob(bucket_name, blob_name):\n",
    "    \"\"\"Deletes a blob from the bucket.\"\"\"\n",
    "    storage_client = storage.Client()\n",
    "    bucket = storage_client.get_bucket(bucket_name)\n",
    "    blob = bucket.blob(blob_name)\n",
    "\n",
    "    blob.delete()"
   ]
  },
  {
   "cell_type": "code",
   "execution_count": 21,
   "metadata": {},
   "outputs": [],
   "source": [
    "def google_transcribe(audio_file_name):\n",
    "    \n",
    "    file_name = filepath + audio_file_name\n",
    "    #mp3_to_wav(file_name)\n",
    "\n",
    "    # The name of the audio file to transcribe\n",
    "    \n",
    "    frame_rate=8000\n",
    "    channels = 1\n",
    "    \n",
    "    if channels > 1:\n",
    "        stereo_to_mono(file_name)\n",
    "    \n",
    "    #TODO: Change this to your bucket name\n",
    "    bucket_name = 'mytestbucketvietnamese'\n",
    "    source_file_name = filepath + audio_file_name\n",
    "    destination_blob_name = audio_file_name\n",
    "    \n",
    "    #upload_blob(bucket_name, source_file_name, destination_blob_name)\n",
    "    \n",
    "    #TODO: Change this to your bucket name and ensure you upload a file\n",
    "    #explicitly as I am not going through the upload and delete process again via the remaining python code\n",
    "    gcs_uri = 'gs://mytestbucketvietnamese/' + audio_file_name\n",
    "    transcript = ''\n",
    "    \n",
    "    client = speech.SpeechClient()\n",
    "    audio = types.RecognitionAudio(uri=gcs_uri)\n",
    "\n",
    "    config = types.RecognitionConfig(\n",
    "    encoding=enums.RecognitionConfig.AudioEncoding.LINEAR16,\n",
    "    sample_rate_hertz=frame_rate,\n",
    "    language_code='vi-VN',\n",
    "    enable_speaker_diarization=True,\n",
    "    diarization_speaker_count=2)\n",
    "\n",
    "    # Detects speech in the audio file\n",
    "    operation = client.long_running_recognize(config, audio)\n",
    "    response = operation.result(timeout=1000000)\n",
    "    result = response.results[-1]\n",
    "    words_info = result.alternatives[0].words\n",
    "    \n",
    "    tag=1\n",
    "    speaker=\"\"\n",
    "\n",
    "    for word_info in words_info:\n",
    "        if word_info.speaker_tag==tag:\n",
    "            speaker=speaker+\" \"+word_info.word\n",
    "        else:\n",
    "            transcript += \"speaker {}: {}\".format(tag,speaker) + '\\n'\n",
    "            tag=word_info.speaker_tag\n",
    "            speaker=\"\"+word_info.word\n",
    "\n",
    "    transcript += \"speaker {}: {}\".format(tag,speaker)\n",
    "    \n",
    "    #delete_blob(bucket_name, destination_blob_name)\n",
    "    return transcript"
   ]
  },
  {
   "cell_type": "code",
   "execution_count": 28,
   "metadata": {},
   "outputs": [],
   "source": [
    "def write_transcripts(transcript_filename,transcript):\n",
    "    f= open(transcript_filename,\"w+\", encoding=\"utf-8\")\n",
    "    f.write(transcript)\n",
    "    f.close() "
   ]
  },
  {
   "cell_type": "code",
   "execution_count": 29,
   "metadata": {},
   "outputs": [
    {
     "name": "stdout",
     "output_type": "stream",
     "text": [
      "speaker 1:  gà cho em hỏi có phải là thằng không mà siêu nhân người máy không chị trò chơi đặt hàng Bên em đang có chương trình hỗ trợ cho chị tham gia rút tiền thưởng tối đa là được ba triệu ba được mạng Facebook dừng với một đợt này bên em đang rảnh lại rút ra từ số chỉ cần các loại khoảng 5% là một triệu chị rút ra như vậy chỉ có 25 nghìn tiền lãi một thằng rất nhiều tiền cài đặt hàng cho bên em có hỗ trợ chuyển khoản trực tiếp vào tài khoản thẻ ngân hàng cho chị Nếu chị có sử dụng thẻ ATM em chuyển khoản trực tiếp quan hệ với chị luôn để điều kiện sử dụng không có thể mất nhiều thời gian đi nhận tiền nữa là hết rồi thì em còn hỗ trợ được cho chị có phải là được bao nhiêu mình có dùng thẻ ATM của Ngân hàng nào rút tiền của Ngân hàng nào không đâu có mập đâu mà ở ngoài cái ngủ ban đêm rất ra là chị có dùng cách nào khác nữa không được một lần nhận tiền Alo có gì ở trong đó chỉ có cái đó không gà gà cá sấu không không Không Giờ Rồi à 9399 Về rồi à 274 141 giờ rồi chị rồi cái này Alo anh ơi cái này là số tài khoản ngân hàng cho con nha đam có cho chị cái số tài khoản sẽ đọc lại là 070 093 2741 là đứng tên của tôi là Đức Nguyễn Thị Kiều như là ngân hàng khác cho chị đúng không Em chuyển rồi đó cho chị là ba triệu ba trăm thì có người khoảng thứ hai thì có ngày mình mang chứng minh nhân dân của chị Chị ở bên chị đóng tiền lại trước nè chồng với tiền 2% có thêm 2% tiền gốc sáng tác của chị nữa là nó đâu đó còn chưa tới 200.000 nữa chị còn đang có gì mới thì mình cảm thấy không có thể trả 500 1 triệu hoặc là chị trả hết cái đó từ chiều nha tiền là 3313200₫ 2 tháng cứ đi đóng tiền nó được nhiều đến các cửa hàng điện thoại bưu điện Hòa Khánh Huyền đã đóng em thì nó lời cảm ơn cho chị\n"
     ]
    }
   ],
   "source": [
    "if __name__ == \"__main__\":\n",
    "    # TODO : give the name of the file that you have already uploaded to the gc-storage\n",
    "    transcript = google_transcribe('out.wav')\n",
    "    print(transcript)\n",
    "    transcript_filename = 'out.wav'.split('.')[0] + '.txt'\n",
    "    write_transcripts(transcript_filename,transcript)\n",
    "    \n"
   ]
  },
  {
   "cell_type": "code",
   "execution_count": null,
   "metadata": {
    "collapsed": true
   },
   "outputs": [],
   "source": []
  },
  {
   "cell_type": "code",
   "execution_count": null,
   "metadata": {
    "collapsed": true
   },
   "outputs": [],
   "source": []
  }
 ],
 "metadata": {
  "kernelspec": {
   "display_name": "Python 3",
   "language": "python",
   "name": "python3"
  },
  "language_info": {
   "codemirror_mode": {
    "name": "ipython",
    "version": 3
   },
   "file_extension": ".py",
   "mimetype": "text/x-python",
   "name": "python",
   "nbconvert_exporter": "python",
   "pygments_lexer": "ipython3",
   "version": "3.6.8"
  }
 },
 "nbformat": 4,
 "nbformat_minor": 2
}
